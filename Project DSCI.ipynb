{
 "cells": [
  {
   "cell_type": "markdown",
   "id": "8bfe5540-e919-4742-96a5-f72caa84ee95",
   "metadata": {},
   "source": [
    "*SOMEONE CAN ADD IN TITLE"
   ]
  },
  {
   "cell_type": "markdown",
   "id": "674c8652-0986-4eee-bbe2-82f3c2fad004",
   "metadata": {},
   "source": [
    "*SOMEONE CAN ADD IN INTRODUCTION\n",
    "- data from: https://www.kaggle.com/datasets/andrewmvd/fetal-health-classification\n",
    "- background information, help eaders understand\n",
    "- research question, what we are trying to prove: \"Can we predict fetal health (1,2 or 3) (Normal, Suspected, Pathological) , using classification model with baseline fetal heart beat, Fetal Movement, uterine contractions and mean value of short term variability ?\"\n",
    "- data set description and identification"
   ]
  },
  {
   "cell_type": "code",
   "execution_count": null,
   "id": "5401a1d2-f325-4f67-b43b-90ad3feddbdf",
   "metadata": {},
   "outputs": [],
   "source": [
    "#load libraries \n",
    "library(tidyverse)\n",
    "library(repr)\n",
    "library(rvest)\n",
    "library(dplyr)\n",
    "library(readxl)"
   ]
  },
  {
   "cell_type": "markdown",
   "id": "40c7a18e-5de2-40a7-93b0-88515fc17f70",
   "metadata": {},
   "source": [
    "*SOMEONE CAN FIND OUT HOW TO READ THIS FILE FROM THE INTERNET OR GITHUB. WE FOUND THE FILE BUT COULD NOT FIGURE OUT HOW TO LOAD IT \"VIA THE WEB\" LIKE THE PROJECT ASKED FOR, SO THAT STILL NEEDS TO BE DONE OR THE FILE CAN BE UPLOAED TO GITHUB OURSLEVES - currently, we worked on this by dowloading the file from the website and then loading it into our juptyer notebook"
   ]
  },
  {
   "cell_type": "code",
   "execution_count": null,
   "id": "7a73a8b6-cb39-4e3b-b680-e650bf581059",
   "metadata": {},
   "outputs": [],
   "source": [
    "#demonstrate that thw web data set can be read from the web into R\n",
    "fetal_health <- read_csv(\"fetal_health.csv\")\n",
    "fetal_health"
   ]
  },
  {
   "cell_type": "markdown",
   "id": "215af5c9-aea2-4a91-8197-387d15e127f4",
   "metadata": {},
   "source": [
    "*SOMEONE NARRATE THE CLEANING AND WRANGLING THAT IS BELOW, BASICALLY WE NEED TO WRITE OUT HERE WHAT WE ARE DOING AND WHY WE ARE DOING IT !!\n",
    "\n",
    "Removed columns of histogram data and stuff - explain why ! \n",
    "\n",
    "Write out explainations of why we were doing the codes, provide explaination and proof simialir to wording in the worksheet. "
   ]
  },
  {
   "cell_type": "code",
   "execution_count": null,
   "id": "5440ebfe-7315-489f-aca0-eeadce1b840c",
   "metadata": {},
   "outputs": [],
   "source": [
    "#cleaning and wrangling data\n",
    "\n",
    "#ultimatley not even sure if we need to add the select stuff, this isn't nesseasary to make it 'tidy' technically\n",
    "\n",
    "#select for data columns we need\n",
    "selected_fetal_health <- select(fetal_health, \"baseline value\", fetal_movement, uterine_contractions, mean_value_of_short_term_variability, fetal_health)\n",
    "\n",
    "#change \"baseline value\" to be baseline_value\n",
    "colnames(selected_fetal_health)[1] = \"Baseline_value\"\n",
    "\n",
    "#we will be treating fetal_health as a categorcal variable, therefore fetal_health has to be a factor. Re-name fetal_health\n",
    "factored_fetal_health <- selected_fetal_health|> \n",
    "    mutate(fetal_health = as.factor(fetal_health))\n",
    "factored_fetal_health"
   ]
  },
  {
   "cell_type": "markdown",
   "id": "67e7c1d3-9a68-475f-8d93-22b09b85c8f6",
   "metadata": {},
   "source": [
    "*SOMEONE CAN RUN CODE ABOVE TO FIGURE OUT IF THERE ARE ANY MISSING VALUES IN THE DATA SET. \n",
    "*SOMEONE CAN MAKE SURE THE OUTPUT OF THE CELLS ABOVE ARE IN TIDY FORMAT"
   ]
  },
  {
   "cell_type": "markdown",
   "id": "65708a35-5102-4eb0-b5ef-648a6844f9b6",
   "metadata": {},
   "source": [
    "*SOMEONE DOES DATA SUMMARIZATION - in at least one table (this is exploratory data analysis). \n",
    "An example of a useful table could be one that reports the number of observations in each class,\n",
    "the means of the predictor variables you plan to use in your analysis and how many rows have missing data. \n"
   ]
  },
  {
   "cell_type": "markdown",
   "id": "93e82874-39fe-4b81-a445-8c19cf84725a",
   "metadata": {},
   "source": [
    "DATA VISUALS"
   ]
  },
  {
   "cell_type": "code",
   "execution_count": null,
   "id": "b94cb960-b453-4a57-bba2-3f2e8119e9ec",
   "metadata": {},
   "outputs": [],
   "source": [
    "#create data visual, currently I made these diffrent boxplots to show the distributions of each variable we are using\n",
    "#to make our classification model, plotted against the fetal health score (1,2,3)\n",
    "\n",
    "#However, we need to add them all together somehow into a one nice figure and then go from there for the submission\n",
    "\n",
    "boxplot_Baseline_value <- boxplot(Baseline_value~fetal_health,data = factored_fetal_health, main = \"Baseline Heart Rate and Fetal Health\", \n",
    "   xlab = \"Fetal Health (1 = Normal, 2 = Suspected, 3 = Pathogenetic)\", ylab = \"Baseline Heart Rate (BPM)\")\n",
    "\n",
    "boxplot_fetal_movement <- boxplot(fetal_movement~fetal_health,data = factored_fetal_health, main = \"Fetal Movement and Fetal Health\", \n",
    "   xlab = \"Fetal Health (1 = Normal, 2 = Suspected, 3 = Pathogenetic)\", ylab = \"Fetal Movement (# Movements / Second)\")\n",
    "\n",
    "boxplot_uterine_contractions <- boxplot(uterine_contractions~fetal_health,data = factored_fetal_health, main = \"Uterine Contractions and Fetal Health\", \n",
    "   xlab = \"Fetal Health (1 = Normal, 2 = Suspected, 3 = Pathogenetic)\", ylab = \"Uterine Contractions (# Contractions / Second)\")\n",
    "\n",
    "boxplot_mean_value_of_short_term_variability <- boxplot(mean_value_of_short_term_variability~fetal_health,data = factored_fetal_health, main = \"Mean Value of Short Term Variability and Fetal Health\", \n",
    "   xlab = \"Fetal Health (1 = Normal, 2 = Suspected, 3 = Pathogenetic)\", ylab = \"Mean Value of Short Term Variability (Mean of % time with Variability during CTG reading\")"
   ]
  },
  {
   "cell_type": "markdown",
   "id": "e76ae675-1c8f-473f-81ff-f74d30905cc6",
   "metadata": {},
   "source": [
    "*SOMEONE CAN RUN A FUNCTION TO PUT ALL OF THESE BOX PLOTS INTO ONE NICE FIGURE ^^"
   ]
  },
  {
   "cell_type": "markdown",
   "id": "3aebc464-ff10-4623-a18f-c9e79387119d",
   "metadata": {},
   "source": [
    "METHODS \n",
    "\n",
    "We will be using Baseline Fetal Heart Beat, Fetal Movement, Uterine Contractions and Mean Value of Short Term Variability to built a classification model to classify fetal health as either Normal, Suspected or Pathogenetic. \n",
    "\n",
    "First, the data must be scaled so that the variables of intrest can be accuralty compared against one another in terms of their proxiity and relevancy to aiding us in predicting fetal health.\n",
    "\n",
    "****** CAN USE THIS::\n",
    "fruit_data_scaled <- fruit_data |> \n",
    " mutate(scaled_mass = scale(mass, center = TRUE), \n",
    "        scaled_width = scale(width, center = TRUE),\n",
    "        scaled_height = scale(height, center = TRUE),\n",
    "        scaled_color_score = scale(color_score, center = TRUE))\n",
    "fruit_data_scaled\n",
    "\n",
    "Then, the data set will be split into a training data set contaning 75% of the data and a test data set which has the remaining 25%. The training set is the portion of the data in which we will use build and train our model for classifiing, and the test data set is the data set we will use to test the accuracy of the model we built. \n",
    "\n",
    "The model we will build us based on the model specification for the k-nearest neighbors function / clasification algorithm, using weight function set to \"rectangular\" for point proximity, the \"kknn\" engine and \"classification\" mode. We would have to choose an arbitrary number for K, maybe ~5, changing it to imporve accuracy of the model later on in the process. \n",
    "\n",
    "To then train the model on the breast cancer data set, we pass the k-nearest neighbors specifications from above through the fit function, where we classify the fetal health variable as our target, with the Baseline Fetal Heart Beat, Fetal Movement, Uterine Contractions and Mean Value of Short Term Variability as our predictors. \n",
    "\n",
    "We would then need to make a recipe for our data set using the recipe function. \n",
    "\n",
    "We would then make a workflow using the workflow function, feeding the recipe in through the worfkflow along with the k-nearest neighbors model we made. \n",
    "\n",
    "Following these steps, we would then use the predict function - passing the model data set and the test data set, binding the columns of the test data set to make a new data set we can use to analyze predictions. \n",
    "\n",
    "Then, we can use the metrics function to test the accuracy of the model we built. Should the accuracy be high, we know that our model is good at predicting fetal health. If it isn't, then we would need to re-vist the variable we are using and maybe remove one and the re-do our process. Or, we can tune our model using cross validation and the vfold_cv function, using the metrics function to choose the most accurate K nearest neighbor value which we should use for our model. \n",
    "\n",
    "\n",
    "*SOMEONE CAN ADD IN BEST WAY TO VISUALIZE RESULTS FOR METHODS SECTION\n",
    "\n",
    "\n"
   ]
  },
  {
   "cell_type": "markdown",
   "id": "cc43b067-6d21-4654-bd3d-ae8edea5d0d8",
   "metadata": {},
   "source": [
    "*SOMEONE CAN ADD IN EXPECT OUTCOMES AND SIGNIFIGANCE"
   ]
  },
  {
   "cell_type": "markdown",
   "id": "d5ccfdf8-1977-4d91-b814-af6aa29d2933",
   "metadata": {},
   "source": [
    "*SOMEONE CAN EDIT THE METHODS SECTION TO MAKE SURE IT MAKES SENSE AND FLOWS ?"
   ]
  },
  {
   "cell_type": "code",
   "execution_count": null,
   "id": "24b0f533-9599-48e6-a465-cf987ac0f34c",
   "metadata": {},
   "outputs": [],
   "source": []
  }
 ],
 "metadata": {
  "kernelspec": {
   "display_name": "R",
   "language": "R",
   "name": "ir"
  },
  "language_info": {
   "codemirror_mode": "r",
   "file_extension": ".r",
   "mimetype": "text/x-r-source",
   "name": "R",
   "pygments_lexer": "r",
   "version": "4.2.2"
  }
 },
 "nbformat": 4,
 "nbformat_minor": 5
}
